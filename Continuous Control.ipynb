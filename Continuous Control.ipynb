{
 "cells": [
  {
   "cell_type": "markdown",
   "metadata": {},
   "source": [
    "# Continuous Control\n",
    "\n",
    "---\n",
    "\n",
    "You are welcome to use this coding environment to train your agent for the project.  Follow the instructions below to get started!\n",
    "\n",
    "### 1. Start the Environment\n",
    "\n",
    "Run the next code cell to install a few packages.  This line will take a few minutes to run!"
   ]
  },
  {
   "cell_type": "code",
   "execution_count": 1,
   "metadata": {},
   "outputs": [
    {
     "name": "stdout",
     "output_type": "stream",
     "text": [
      "\u001b[31mInvalid requirement: './python'\r\n",
      "It looks like a path. File './python' does not exist.\u001b[0m\r\n"
     ]
    }
   ],
   "source": [
    "!pip -q install ./python"
   ]
  },
  {
   "cell_type": "markdown",
   "metadata": {},
   "source": [
    "The environments corresponding to both versions of the environment are already saved in the Workspace and can be accessed at the file paths provided below.  \n",
    "\n",
    "Please select one of the two options below for loading the environment."
   ]
  },
  {
   "cell_type": "code",
   "execution_count": 2,
   "metadata": {},
   "outputs": [],
   "source": [
    "from unityagents import UnityEnvironment\n",
    "import numpy as np\n",
    "import os\n",
    "\n",
    "import torch\n",
    "import torch.nn as nn\n",
    "import torch.nn.functional as F\n",
    "import torch.optim as optim\n",
    "\n",
    "import random\n",
    "from collections import namedtuple, deque\n",
    "\n",
    "import matplotlib.pyplot as plt\n",
    "%matplotlib inline"
   ]
  },
  {
   "cell_type": "code",
   "execution_count": 3,
   "metadata": {},
   "outputs": [
    {
     "name": "stderr",
     "output_type": "stream",
     "text": [
      "INFO:unityagents:\n",
      "'Academy' started successfully!\n",
      "Unity Academy name: Academy\n",
      "        Number of Brains: 1\n",
      "        Number of External Brains : 1\n",
      "        Lesson number : 0\n",
      "        Reset Parameters :\n",
      "\t\tgoal_speed -> 1.0\n",
      "\t\tgoal_size -> 5.0\n",
      "Unity brain name: ReacherBrain\n",
      "        Number of Visual Observations (per agent): 0\n",
      "        Vector Observation space type: continuous\n",
      "        Vector Observation space size (per agent): 33\n",
      "        Number of stacked Vector Observation: 1\n",
      "        Vector Action space type: continuous\n",
      "        Vector Action space size (per agent): 4\n",
      "        Vector Action descriptions: , , , \n"
     ]
    }
   ],
   "source": [
    "# select this option to load version 1 (with 20 agents) of the environment\n",
    "env = UnityEnvironment(file_name='./Reacher_2.app')"
   ]
  },
  {
   "cell_type": "markdown",
   "metadata": {},
   "source": [
    "Environments contain **_brains_** which are responsible for deciding the actions of their associated agents. Here we check for the first brain available, and set it as the default brain we will be controlling from Python."
   ]
  },
  {
   "cell_type": "code",
   "execution_count": 4,
   "metadata": {},
   "outputs": [],
   "source": [
    "# get the default brain\n",
    "brain_name = env.brain_names[0]\n",
    "brain = env.brains[brain_name]"
   ]
  },
  {
   "cell_type": "markdown",
   "metadata": {},
   "source": [
    "### 2. Examine the State and Action Spaces\n",
    "\n",
    "Run the code cell below to print some information about the environment."
   ]
  },
  {
   "cell_type": "code",
   "execution_count": 5,
   "metadata": {},
   "outputs": [
    {
     "name": "stdout",
     "output_type": "stream",
     "text": [
      "Number of agents: 20\n",
      "Number of actions: 4\n",
      "States look like: [ 0.00000000e+00 -4.00000000e+00  0.00000000e+00  1.00000000e+00\n",
      " -0.00000000e+00 -0.00000000e+00 -4.37113883e-08  0.00000000e+00\n",
      "  0.00000000e+00  0.00000000e+00  0.00000000e+00  0.00000000e+00\n",
      "  0.00000000e+00  0.00000000e+00 -1.00000000e+01  0.00000000e+00\n",
      "  1.00000000e+00 -0.00000000e+00 -0.00000000e+00 -4.37113883e-08\n",
      "  0.00000000e+00  0.00000000e+00  0.00000000e+00  0.00000000e+00\n",
      "  0.00000000e+00  0.00000000e+00  5.75471878e+00 -1.00000000e+00\n",
      "  5.55726624e+00  0.00000000e+00  1.00000000e+00  0.00000000e+00\n",
      " -1.68164849e-01]\n",
      "States have length: 33\n"
     ]
    }
   ],
   "source": [
    "# environment information\n",
    "# reset the environment\n",
    "env_info = env.reset(train_mode=True)[brain_name]\n",
    "\n",
    "# number of agents in the environment\n",
    "n_agents = len(env_info.agents)\n",
    "print('Number of agents:', n_agents)\n",
    "\n",
    "# number of actions\n",
    "action_size = brain.vector_action_space_size\n",
    "print('Number of actions:', action_size)\n",
    "\n",
    "# examine the state space \n",
    "state = env_info.vector_observations[0]\n",
    "print('States look like:', state)\n",
    "state_size = len(state)\n",
    "print('States have length:', state_size)"
   ]
  },
  {
   "cell_type": "markdown",
   "metadata": {},
   "source": [
    "### 3. Take Random Actions in the Environment\n",
    "\n",
    "In the next code cell, you will learn how to use the Python API to control the agent and receive feedback from the environment.\n",
    "\n",
    "Note that **in this coding environment, you will not be able to watch the agents while they are training**, and you should set `train_mode=True` to restart the environment."
   ]
  },
  {
   "cell_type": "code",
   "execution_count": 6,
   "metadata": {},
   "outputs": [
    {
     "name": "stdout",
     "output_type": "stream",
     "text": [
      "Episode 0\tAverage Score: 10.22\n",
      "Episode 1\tAverage Score: 11.36\n",
      "Episode 2\tAverage Score: 11.84\n",
      "Episode 3\tAverage Score: 12.12\n",
      "Episode 4\tAverage Score: 12.98\n",
      "Episode 5\tAverage Score: 13.56\n",
      "Episode 6\tAverage Score: 14.33\n",
      "Episode 7\tAverage Score: 14.82\n",
      "Episode 8\tAverage Score: 15.35\n",
      "Episode 9\tAverage Score: 16.06\n",
      "Episode 10\tAverage Score: 16.78\n",
      "Episode 11\tAverage Score: 17.49\n",
      "Episode 12\tAverage Score: 18.02\n",
      "Episode 13\tAverage Score: 18.45\n",
      "Episode 14\tAverage Score: 19.06\n",
      "Episode 15\tAverage Score: 19.67\n",
      "Episode 16\tAverage Score: 20.23\n",
      "Episode 17\tAverage Score: 20.79\n",
      "Episode 18\tAverage Score: 21.40\n",
      "Episode 19\tAverage Score: 21.84\n",
      "Episode 20\tAverage Score: 22.34\n",
      "Episode 21\tAverage Score: 22.82\n",
      "Episode 22\tAverage Score: 23.28\n",
      "Episode 23\tAverage Score: 23.66\n",
      "Episode 24\tAverage Score: 23.98\n",
      "Episode 25\tAverage Score: 24.31\n",
      "Episode 26\tAverage Score: 24.69\n",
      "Episode 27\tAverage Score: 25.07\n",
      "Episode 28\tAverage Score: 25.40\n",
      "Episode 29\tAverage Score: 25.61\n",
      "Episode 30\tAverage Score: 25.86\n",
      "Episode 31\tAverage Score: 26.16\n",
      "Episode 32\tAverage Score: 26.43\n",
      "Episode 33\tAverage Score: 26.67\n",
      "Episode 34\tAverage Score: 26.94\n",
      "Episode 35\tAverage Score: 27.16\n",
      "Episode 36\tAverage Score: 27.37\n",
      "Episode 37\tAverage Score: 27.57\n",
      "Episode 38\tAverage Score: 27.79\n",
      "Episode 39\tAverage Score: 27.98\n",
      "Episode 40\tAverage Score: 28.15\n",
      "Episode 41\tAverage Score: 28.31\n",
      "Episode 42\tAverage Score: 28.51\n",
      "Episode 43\tAverage Score: 28.67\n",
      "Episode 44\tAverage Score: 28.83\n",
      "Episode 45\tAverage Score: 28.99\n",
      "Episode 46\tAverage Score: 29.13\n",
      "Episode 47\tAverage Score: 29.27\n",
      "Episode 48\tAverage Score: 29.39\n",
      "Episode 49\tAverage Score: 29.51\n",
      "Episode 50\tAverage Score: 29.63\n",
      "Episode 51\tAverage Score: 29.73\n",
      "Episode 52\tAverage Score: 29.84\n",
      "Episode 53\tAverage Score: 29.97\n",
      "Episode 54\tAverage Score: 30.07\n",
      "\n",
      "Environment solved in 53 episodes!\tAverage Score: 30.07\n"
     ]
    },
    {
     "data": {
      "image/png": "[encoded data removed]",
      "text/plain": [
       "<Figure size 432x288 with 1 Axes>"
      ]
     },
     "metadata": {
      "needs_background": "light"
     },
     "output_type": "display_data"
    }
   ],
   "source": [
    "from train import Agent\n",
    "\n",
    "DEVICE = torch.device(\"cuda:0\" if torch.cuda.is_available() else \"cpu\")\n",
    "\n",
    "# Hyperparameters Used\n",
    "BUFFER_SIZE = int(1e5)  # replay buffer size\n",
    "BATCH_SIZE = 128        # minibatch size\n",
    "GAMMA = 0.99            # discount factor\n",
    "TAU = 1e-3              # for soft update of target parameters\n",
    "LR_ACTOR = 1e-4         # learning rate of the actor \n",
    "LR_CRITIC = 1e-4        # learning rate of the critic\n",
    "WEIGHT_DECAY = 0        # L2 weight decay\n",
    "N_EPISODES = 1000\n",
    "\n",
    "# All four networks structure: two hidden layers with size (256, 128)\n",
    "fc1_units = 256\n",
    "fc2_units = 128\n",
    "\n",
    "CHECKPOINT_FOLDER = './Saved_Model/'\n",
    "\n",
    "Target_Reward = 30 \n",
    "\n",
    "\n",
    "agent = Agent(\n",
    "                DEVICE, \n",
    "                state_size, n_agents, action_size, 4, \n",
    "                BUFFER_SIZE, BATCH_SIZE, GAMMA, TAU, LR_ACTOR, LR_CRITIC, WEIGHT_DECAY,\n",
    "                fc1_units=256, fc2_units=128, checkpoint_folder=CHECKPOINT_FOLDER\n",
    "        )\n",
    "\n",
    "def ddpg_train(n_episodes=N_EPISODES, train=True):\n",
    "    scores = []\n",
    "    scores_window = deque(maxlen=100)\n",
    "    n_episodes = N_EPISODES\n",
    "\n",
    "    for episode in range(n_episodes):\n",
    "        env_info = env.reset(train_mode=True)[brain_name]            # reset the environment\n",
    "        states = env_info.vector_observations\n",
    "        agent.reset()                                                # reset the agent noise\n",
    "        score = np.zeros(n_agents)\n",
    "        \n",
    "        while True:\n",
    "            actions = agent.act(states)\n",
    "        \n",
    "            env_info = env.step( actions )[brain_name]               # send the action to the environment                            \n",
    "            next_states = env_info.vector_observations               # get the next state        \n",
    "            rewards = env_info.rewards                               # get the reward        \n",
    "            dones = env_info.local_done                              # see if episode has finished        \n",
    "            \n",
    "            if train:\n",
    "                agent.step(states, actions, rewards, next_states, dones)\n",
    "\n",
    "            score += rewards                                         # update the score\n",
    "        \n",
    "            states = next_states                                     # roll over the state to next time step        \n",
    "                                                        \n",
    "            if np.any( dones ):                                      # exit loop if episode finished        \n",
    "                break                                        \n",
    "\n",
    "        scores.append(np.mean(score))\n",
    "        scores_window.append(np.mean(score))\n",
    "            \n",
    "        print('\\rEpisode {}\\tAverage Score: {:.2f}'.format(episode, np.mean(scores_window)), end=\"\")\n",
    "        if episode % 1 == 0:\n",
    "            print('\\rEpisode {}\\tAverage Score: {:.2f}'.format(episode, np.mean(scores_window)))\n",
    "        if np.mean(scores_window)>=Target_Reward:\n",
    "            print('\\nEnvironment solved in {:d} episodes!\\tAverage Score: {:.2f}'.format(episode-1, np.mean(scores_window)))\n",
    "            agent.checkpoint()\n",
    "            break\n",
    "\n",
    "    return scores\n",
    "\n",
    "# train the agent\n",
    "scores = ddpg_train()\n",
    "\n",
    "# plot the scores\n",
    "fig = plt.figure()\n",
    "ax = fig.add_subplot(111)\n",
    "plt.plot(np.arange(len(scores)), scores)\n",
    "plt.ylabel('Score')\n",
    "plt.xlabel('Episode #')\n",
    "plt.show()\n",
    "fig.savefig('model.png')"
   ]
  },
  {
   "cell_type": "markdown",
   "metadata": {},
   "source": [
    "When finished, you can close the environment."
   ]
  },
  {
   "cell_type": "code",
   "execution_count": 7,
   "metadata": {},
   "outputs": [],
   "source": [
    "env.close()"
   ]
  }
 ],
 "metadata": {
  "kernelspec": {
   "display_name": "drlnd",
   "language": "python",
   "name": "drlnd"
  },
  "language_info": {
   "codemirror_mode": {
    "name": "ipython",
    "version": 3
   },
   "file_extension": ".py",
   "mimetype": "text/x-python",
   "name": "python",
   "nbconvert_exporter": "python",
   "pygments_lexer": "ipython3",
   "version": "3.6.8"
  }
 },
 "nbformat": 4,
 "nbformat_minor": 2
}
